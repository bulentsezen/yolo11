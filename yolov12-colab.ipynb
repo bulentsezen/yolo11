{
  "nbformat": 4,
  "nbformat_minor": 0,
  "metadata": {
    "colab": {
      "provenance": [],
      "gpuType": "T4"
    },
    "kernelspec": {
      "name": "python3",
      "display_name": "Python 3"
    },
    "language_info": {
      "name": "python"
    },
    "accelerator": "GPU"
  },
  "cells": [
    {
      "cell_type": "code",
      "execution_count": null,
      "metadata": {
        "collapsed": true,
        "id": "azbagYCDt7-W"
      },
      "outputs": [],
      "source": [
        "!git clone https://github.com/sunsmarterjie/yolov12"
      ]
    },
    {
      "cell_type": "code",
      "source": [
        "%cd yolov12"
      ],
      "metadata": {
        "id": "ajIRzUqJwGGC"
      },
      "execution_count": null,
      "outputs": []
    },
    {
      "cell_type": "code",
      "source": [
        "!wget https://github.com/Dao-AILab/flash-attention/releases/download/v2.7.3/flash_attn-2.7.3+cu11torch2.2cxx11abiFALSE-cp311-cp311-linux_x86_64.whl"
      ],
      "metadata": {
        "id": "ZDpXz_J6wlRj"
      },
      "execution_count": null,
      "outputs": []
    },
    {
      "cell_type": "code",
      "source": [
        "!pip install -r requirements.txt\n",
        "!pip install -e ."
      ],
      "metadata": {
        "id": "lfnubmTGusL0"
      },
      "execution_count": null,
      "outputs": []
    },
    {
      "cell_type": "code",
      "source": [
        "from ultralytics import YOLO\n",
        "\n",
        "model = YOLO('yolov12l.pt')\n",
        "\n",
        "# Perform object detection on an image\n",
        "results = model(\"araba.jpg\")\n",
        "results[0].show()"
      ],
      "metadata": {
        "id": "EzvyvSb8xsVD"
      },
      "execution_count": null,
      "outputs": []
    },
    {
      "cell_type": "code",
      "source": [
        "# Perform object detection on an image\n",
        "results = model(\"tas_kagit_makas.jpg\")\n",
        "results[0].show()"
      ],
      "metadata": {
        "id": "cKqrXEkf3UIZ"
      },
      "execution_count": null,
      "outputs": []
    },
    {
      "cell_type": "code",
      "source": [
        "# Perform object detection on an image\n",
        "results = model(\"ucak.jpg\")\n",
        "results[0].show()"
      ],
      "metadata": {
        "id": "8pQBnmNx3imL"
      },
      "execution_count": null,
      "outputs": []
    },
    {
      "cell_type": "code",
      "source": [
        "results = model(\"ofis.jpg\")\n",
        "results[0].show()"
      ],
      "metadata": {
        "id": "U5nNoLvv4P1I"
      },
      "execution_count": null,
      "outputs": []
    }
  ]
}